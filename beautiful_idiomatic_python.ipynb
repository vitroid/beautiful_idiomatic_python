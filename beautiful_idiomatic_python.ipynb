{
 "cells": [
  {
   "attachments": {},
   "cell_type": "markdown",
   "metadata": {},
   "source": [
    "# Transforming Code into Beautiful, Idiomatic Python\n",
    "\n",
    "(Modified for Python3 by [vitroid](https://github.com/vitroid))\n",
    "\n",
    "Notes from Raymond Hettinger's talk at pycon US 2013 [video](http://www.youtube.com/watch?feature=player_embedded&v=OSGv2VnC0go), [slides](https://speakerdeck.com/pyconslides/transforming-code-into-beautiful-idiomatic-python-by-raymond-hettinger-1).\n",
    "\n",
    "The code examples and direct quotes are all from Raymond's talk. I've reproduced them here for my own edification and the hopes that others will find them as handy as I have!\n",
    "\n",
    "## Looping over a range of numbers\n"
   ]
  },
  {
   "cell_type": "code",
   "execution_count": null,
   "metadata": {},
   "outputs": [],
   "source": [
    "for i in [0, 1, 2, 3, 4, 5]:\n",
    "    print(i**2)"
   ]
  },
  {
   "attachments": {},
   "cell_type": "markdown",
   "metadata": {},
   "source": [
    "\n",
    "### Better\n"
   ]
  },
  {
   "cell_type": "code",
   "execution_count": null,
   "metadata": {},
   "outputs": [],
   "source": [
    "for i in range(6):\n",
    "    print(i**2)\n"
   ]
  },
  {
   "attachments": {},
   "cell_type": "markdown",
   "metadata": {},
   "source": [
    "\n",
    "`range` creates an iterator over the range producing the values one at a time. This approach is much more memory efficient than putting elements.\n",
    "\n",
    "## Looping over a collection\n"
   ]
  },
  {
   "cell_type": "code",
   "execution_count": null,
   "metadata": {},
   "outputs": [],
   "source": [
    "colors = ['red', 'green', 'blue', 'yellow']\n",
    "\n",
    "for i in range(len(colors)):\n",
    "    print(colors[i])\n"
   ]
  },
  {
   "attachments": {},
   "cell_type": "markdown",
   "metadata": {},
   "source": [
    "\n",
    "### Better\n"
   ]
  },
  {
   "cell_type": "code",
   "execution_count": null,
   "metadata": {},
   "outputs": [],
   "source": [
    "for color in colors:\n",
    "    print(color)\n"
   ]
  },
  {
   "attachments": {},
   "cell_type": "markdown",
   "metadata": {},
   "source": [
    "\n",
    "## Looping backwards\n"
   ]
  },
  {
   "cell_type": "code",
   "execution_count": null,
   "metadata": {},
   "outputs": [],
   "source": [
    "colors = ['red', 'green', 'blue', 'yellow']\n",
    "\n",
    "for i in range(len(colors)-1, -1, -1):\n",
    "    print(colors[i])\n"
   ]
  },
  {
   "attachments": {},
   "cell_type": "markdown",
   "metadata": {},
   "source": [
    "\n",
    "### Better\n"
   ]
  },
  {
   "cell_type": "code",
   "execution_count": null,
   "metadata": {},
   "outputs": [],
   "source": [
    "\n",
    "for color in reversed(colors):\n",
    "    print(color)\n"
   ]
  },
  {
   "attachments": {},
   "cell_type": "markdown",
   "metadata": {},
   "source": [
    "\n",
    "## Looping over a collection and indices\n"
   ]
  },
  {
   "cell_type": "code",
   "execution_count": null,
   "metadata": {},
   "outputs": [],
   "source": [
    "colors = ['red', 'green', 'blue', 'yellow']\n",
    "\n",
    "for i in range(len(colors)):\n",
    "    print(i, '--->', colors[i])\n"
   ]
  },
  {
   "attachments": {},
   "cell_type": "markdown",
   "metadata": {},
   "source": [
    "\n",
    "### Better\n"
   ]
  },
  {
   "cell_type": "code",
   "execution_count": null,
   "metadata": {},
   "outputs": [],
   "source": [
    "for i, color in enumerate(colors):\n",
    "    print(i, '--->', color)\n"
   ]
  },
  {
   "attachments": {},
   "cell_type": "markdown",
   "metadata": {},
   "source": [
    "\n",
    "> It's fast and beautiful and saves you from tracking the individual indices and incrementing them.\n",
    "\n",
    "> Whenever you find yourself manipulating indices [in a collection], you're probably doing it wrong.\n",
    "\n",
    "## Looping over two collections\n"
   ]
  },
  {
   "cell_type": "code",
   "execution_count": null,
   "metadata": {},
   "outputs": [],
   "source": [
    "names = ['raymond', 'rachel', 'matthew']\n",
    "colors = ['red', 'green', 'blue', 'yellow']\n",
    "\n",
    "n = min(len(names), len(colors))\n",
    "for i in range(n):\n",
    "    print(names[i], '--->', colors[i])\n"
   ]
  },
  {
   "attachments": {},
   "cell_type": "markdown",
   "metadata": {},
   "source": [
    "\n",
    "### Better\n"
   ]
  },
  {
   "cell_type": "code",
   "execution_count": null,
   "metadata": {},
   "outputs": [],
   "source": [
    "for name, color in zip(names, colors):\n",
    "    print(name, '--->', color)\n"
   ]
  },
  {
   "attachments": {},
   "cell_type": "markdown",
   "metadata": {},
   "source": [
    "\n",
    "## Looping in sorted order\n"
   ]
  },
  {
   "cell_type": "code",
   "execution_count": null,
   "metadata": {},
   "outputs": [],
   "source": [
    "colors = ['red', 'green', 'blue', 'yellow']\n",
    "\n",
    "# Forward sorted order\n",
    "for color in sorted(colors):\n",
    "    print(colors)\n",
    "\n",
    "# Backwards sorted order\n",
    "for color in sorted(colors, reverse=True):\n",
    "    print(colors)\n"
   ]
  },
  {
   "attachments": {},
   "cell_type": "markdown",
   "metadata": {},
   "source": [
    "\n",
    "## Custom Sort Order\n"
   ]
  },
  {
   "cell_type": "code",
   "execution_count": null,
   "metadata": {},
   "outputs": [],
   "source": [
    "colors = ['red', 'green', 'blue', 'yellow']\n",
    "\n",
    "print sorted(colors, key=len)\n"
   ]
  },
  {
   "attachments": {},
   "cell_type": "markdown",
   "metadata": {},
   "source": [
    "## Call a function until a sentinel value\n"
   ]
  },
  {
   "cell_type": "code",
   "execution_count": null,
   "metadata": {},
   "outputs": [],
   "source": [
    "blocks = []\n",
    "while True:\n",
    "    block = f.read(32)\n",
    "    if block == '':\n",
    "        break\n",
    "    blocks.append(block)\n"
   ]
  },
  {
   "attachments": {},
   "cell_type": "markdown",
   "metadata": {},
   "source": [
    "\n",
    "### Better\n"
   ]
  },
  {
   "cell_type": "code",
   "execution_count": null,
   "metadata": {},
   "outputs": [],
   "source": [
    "blocks = []\n",
    "for block in iter(partial(f.read, 32), ''):\n",
    "    blocks.append(block)\n",
    "\n",
    "# or\n",
    "\n",
    "blocks = [block for block in iter(partial(f.read, 32), '')]\n"
   ]
  },
  {
   "cell_type": "markdown",
   "metadata": {},
   "source": [
    "\n",
    "`iter` takes two arguments. The first you call over and over again and the second is a sentinel value.\n"
   ]
  },
  {
   "attachments": {},
   "cell_type": "markdown",
   "metadata": {},
   "source": [
    "\n",
    "## Distinguishing multiple exit points in loops\n"
   ]
  },
  {
   "attachments": {},
   "cell_type": "markdown",
   "metadata": {},
   "source": [
    "\n",
    "```python\n",
    "def find(seq, target):\n",
    "    found = False\n",
    "    for i, value in enumerate(seq):\n",
    "        if value == target:\n",
    "            found = True\n",
    "            break\n",
    "    if not found:\n",
    "        return -1\n",
    "    return i\n",
    "```\n"
   ]
  },
  {
   "attachments": {},
   "cell_type": "markdown",
   "metadata": {},
   "source": [
    "\n",
    "### Better\n"
   ]
  },
  {
   "cell_type": "code",
   "execution_count": null,
   "metadata": {},
   "outputs": [],
   "source": [
    "def find(seq, target):\n",
    "    for i, value in enumerate(seq):\n",
    "        if value == target:\n",
    "            break\n",
    "    else:\n",
    "        return -1\n",
    "    return i\n"
   ]
  },
  {
   "attachments": {},
   "cell_type": "markdown",
   "metadata": {},
   "source": [
    "\n",
    "Inside of every `for` loop is an `else`.\n",
    "\n",
    "## Looping over dictionary keys\n"
   ]
  },
  {
   "cell_type": "code",
   "execution_count": null,
   "metadata": {},
   "outputs": [],
   "source": [
    "d = {'matthew': 'blue', 'rachel': 'green', 'raymond': 'red'}\n",
    "\n",
    "for k in d:\n",
    "    print(k)\n",
    "\n",
    "for k in d.keys():\n",
    "    if k.startswith('r'):\n",
    "        del d[k]\n"
   ]
  },
  {
   "attachments": {},
   "cell_type": "markdown",
   "metadata": {},
   "source": [
    "\n",
    "When should you use the second and not the first? When you're mutating the dictionary.\n",
    "\n",
    "> If you mutate something while you're iterating over it, you're living in a state of sin and deserve what ever happens to you.\n",
    "\n",
    "`d.keys()` makes a copy of all the keys and stores them in a list. Then you can modify the dictionary.\n",
    "Note: in python 3 to iterate through a dictionary you have to explicidly write: `list(d.keys())` because `d.keys()` returns a \"dictionary view\" (an iterable that provide a dynamic view on the dictionary’s keys). See [documentation](https://docs.python.org/3/library/stdtypes.html#dict-views).\n",
    "\n",
    "## Looping over dictionary keys and values\n"
   ]
  },
  {
   "attachments": {},
   "cell_type": "markdown",
   "metadata": {},
   "source": [
    "# Not very fast, has to re-hash every key and do a lookup\n",
    "for k in d:\n",
    "    print(k, '--->', d[k])\n"
   ]
  },
  {
   "attachments": {},
   "cell_type": "markdown",
   "metadata": {},
   "source": [
    "\n",
    "### Better\n"
   ]
  },
  {
   "cell_type": "code",
   "execution_count": null,
   "metadata": {},
   "outputs": [],
   "source": [
    "for k, v in d.items():\n",
    "    print(k, '--->', v)\n"
   ]
  },
  {
   "attachments": {},
   "cell_type": "markdown",
   "metadata": {},
   "source": [
    "## Construct a dictionary from pairs\n"
   ]
  },
  {
   "cell_type": "code",
   "execution_count": null,
   "metadata": {},
   "outputs": [],
   "source": [
    "names = ['raymond', 'rachel', 'matthew']\n",
    "colors = ['red', 'green', 'blue']\n",
    "\n",
    "d = dict(zip(names, colors))\n",
    "# {'matthew': 'blue', 'rachel': 'green', 'raymond': 'red'}\n"
   ]
  },
  {
   "attachments": {},
   "cell_type": "markdown",
   "metadata": {},
   "source": [
    "\n",
    "## Counting with dictionaries\n"
   ]
  },
  {
   "cell_type": "code",
   "execution_count": null,
   "metadata": {},
   "outputs": [],
   "source": [
    "colors = ['red', 'green', 'red', 'blue', 'green', 'red']\n",
    "\n",
    "# Simple, basic way to count. A good start for beginners.\n",
    "d = {}\n",
    "for color in colors:\n",
    "    if color not in d:\n",
    "        d[color] = 0\n",
    "    d[color] += 1\n",
    "\n",
    "# {'blue': 1, 'green': 2, 'red': 3}\n"
   ]
  },
  {
   "attachments": {},
   "cell_type": "markdown",
   "metadata": {},
   "source": [
    "\n",
    "### Better\n"
   ]
  },
  {
   "cell_type": "code",
   "execution_count": null,
   "metadata": {},
   "outputs": [],
   "source": [
    "d = {}\n",
    "for color in colors:\n",
    "    d[color] = d.get(color, 0) + 1\n",
    "\n",
    "# Slightly more modern but has several caveats, better for advanced users\n",
    "# who understand the intricacies\n",
    "d = defaultdict(int)\n",
    "for color in colors:\n",
    "    d[color] += 1\n"
   ]
  },
  {
   "attachments": {},
   "cell_type": "markdown",
   "metadata": {},
   "source": [
    "\n",
    "## Grouping with dictionaries -- Part I and II\n"
   ]
  },
  {
   "cell_type": "code",
   "execution_count": null,
   "metadata": {},
   "outputs": [],
   "source": [
    "names = ['raymond', 'rachel', 'matthew', 'roger',\n",
    "         'betty', 'melissa', 'judith', 'charlie']\n",
    "\n",
    "# In this example, we're grouping by name length\n",
    "d = {}\n",
    "for name in names:\n",
    "    key = len(name)\n",
    "    if key not in d:\n",
    "        d[key] = []\n",
    "    d[key].append(name)\n",
    "\n",
    "# {5: ['roger', 'betty'], 6: ['rachel', 'judith'], 7: ['raymond', 'matthew', 'melissa', 'charlie']}\n",
    "\n",
    "d = {}\n",
    "for name in names:\n",
    "    key = len(name)\n",
    "    d.setdefault(key, []).append(name)\n"
   ]
  },
  {
   "attachments": {},
   "cell_type": "markdown",
   "metadata": {},
   "source": [
    "\n",
    "### Better\n"
   ]
  },
  {
   "cell_type": "code",
   "execution_count": null,
   "metadata": {},
   "outputs": [],
   "source": [
    "d = defaultdict(list)\n",
    "for name in names:\n",
    "    key = len(name)\n",
    "    d[key].append(name)\n"
   ]
  },
  {
   "attachments": {},
   "cell_type": "markdown",
   "metadata": {},
   "source": [
    "\n",
    "## Is a dictionary popitem() atomic?\n"
   ]
  },
  {
   "cell_type": "code",
   "execution_count": null,
   "metadata": {},
   "outputs": [],
   "source": [
    "d = {'matthew': 'blue', 'rachel': 'green', 'raymond': 'red'}\n",
    "\n",
    "while d:\n",
    "    key, value = d.popitem()\n",
    "    print(key, '-->', value)\n"
   ]
  },
  {
   "attachments": {},
   "cell_type": "markdown",
   "metadata": {},
   "source": [
    "\n",
    "`popitem` is atomic so you don't have to put locks around it to use it in threads.\n",
    "\n",
    "## Linking dictionaries\n"
   ]
  },
  {
   "cell_type": "code",
   "execution_count": null,
   "metadata": {},
   "outputs": [],
   "source": [
    "defaults = {'color': 'red', 'user': 'guest'}\n",
    "parser = argparse.ArgumentParser()\n",
    "parser.add_argument('-u', '--user')\n",
    "parser.add_argument('-c', '--color')\n",
    "namespace = parser.parse_args([])\n",
    "command_line_args = {k:v for k, v in vars(namespace).items() if v}\n",
    "\n",
    "# The common approach below allows you to use defaults at first, then override them\n",
    "# with environment variables and then finally override them with command line arguments.\n",
    "# It copies data like crazy, unfortunately.\n",
    "d = defaults.copy()\n",
    "d.update(os.environ)\n",
    "d.update(command_line_args)\n"
   ]
  },
  {
   "attachments": {},
   "cell_type": "markdown",
   "metadata": {},
   "source": [
    "\n",
    "### Better\n"
   ]
  },
  {
   "cell_type": "code",
   "execution_count": null,
   "metadata": {},
   "outputs": [],
   "source": [
    "d = ChainMap(command_line_args, os.environ, defaults)\n"
   ]
  },
  {
   "attachments": {},
   "cell_type": "markdown",
   "metadata": {},
   "source": [
    "\n",
    "`ChainMap` has been introduced into python 3. Fast and beautiful.\n",
    "\n",
    "## Improving Clarity\n",
    " * Positional arguments and indicies are nice\n",
    " * Keywords and names are better\n",
    " * The first way is convenient for the computer\n",
    " * The second corresponds to how human’s think\n",
    "\n",
    "## Clarify function calls with keyword arguments\n"
   ]
  },
  {
   "cell_type": "code",
   "execution_count": null,
   "metadata": {},
   "outputs": [],
   "source": [
    "twitter_search('@obama', False, 20, True)\n"
   ]
  },
  {
   "attachments": {},
   "cell_type": "markdown",
   "metadata": {},
   "source": [
    "\n",
    "### Better\n"
   ]
  },
  {
   "cell_type": "code",
   "execution_count": null,
   "metadata": {},
   "outputs": [],
   "source": [
    "twitter_search('@obama', retweets=False, numtweets=20, popular=True)\n"
   ]
  },
  {
   "attachments": {},
   "cell_type": "markdown",
   "metadata": {},
   "source": [
    "\n",
    "Is slightly (microseconds) slower but is worth it for the code clarity and developer time savings.\n",
    "\n",
    "## Clarify multiple return values with named tuples\n"
   ]
  },
  {
   "cell_type": "code",
   "execution_count": null,
   "metadata": {},
   "outputs": [],
   "source": [
    "# Old testmod return value\n",
    "doctest.testmod()\n",
    "# (0, 4)\n",
    "# Is this good or bad? You don't know because it's not clear.\n"
   ]
  },
  {
   "attachments": {},
   "cell_type": "markdown",
   "metadata": {},
   "source": [
    "\n",
    "### Better\n"
   ]
  },
  {
   "cell_type": "code",
   "execution_count": null,
   "metadata": {},
   "outputs": [],
   "source": [
    "# New testmod return value, a namedTuple\n",
    "doctest.testmod()\n",
    "# TestResults(failed=0, attempted=4)\n"
   ]
  },
  {
   "attachments": {},
   "cell_type": "markdown",
   "metadata": {},
   "source": [
    "\n",
    "A namedTuple is a subclass of tuple so they still work like a regular tuple, but are more friendly.\n",
    "\n",
    "To make a namedTuple:\n"
   ]
  },
  {
   "cell_type": "code",
   "execution_count": null,
   "metadata": {},
   "outputs": [],
   "source": [
    "TestResults = namedTuple('TestResults', ['failed', 'attempted'])\n"
   ]
  },
  {
   "attachments": {},
   "cell_type": "markdown",
   "metadata": {},
   "source": [
    "\n",
    "## Unpacking sequences\n"
   ]
  },
  {
   "cell_type": "code",
   "execution_count": null,
   "metadata": {},
   "outputs": [],
   "source": [
    "p = 'Raymond', 'Hettinger', 0x30, 'python@example.com'\n",
    "\n",
    "# A common approach / habit from other languages\n",
    "fname = p[0]\n",
    "lname = p[1]\n",
    "age = p[2]\n",
    "email = p[3]\n"
   ]
  },
  {
   "attachments": {},
   "cell_type": "markdown",
   "metadata": {},
   "source": [
    "\n",
    "### Better\n"
   ]
  },
  {
   "cell_type": "code",
   "execution_count": null,
   "metadata": {},
   "outputs": [],
   "source": [
    "fname, lname, age, email = p\n"
   ]
  },
  {
   "attachments": {},
   "cell_type": "markdown",
   "metadata": {},
   "source": [
    "\n",
    "The second approach uses tuple unpacking and is faster and more readable.\n",
    "\n",
    "## Updating multiple state variables\n"
   ]
  },
  {
   "cell_type": "code",
   "execution_count": null,
   "metadata": {},
   "outputs": [],
   "source": [
    "def fibonacci(n):\n",
    "    x = 0\n",
    "    y = 1\n",
    "    for i in range(n):\n",
    "        print(x)\n",
    "        t = y\n",
    "        y = x + y\n",
    "        x = t\n"
   ]
  },
  {
   "attachments": {},
   "cell_type": "markdown",
   "metadata": {},
   "source": [
    "\n",
    "### Better\n"
   ]
  },
  {
   "cell_type": "code",
   "execution_count": null,
   "metadata": {},
   "outputs": [],
   "source": [
    "def fibonacci(n):\n",
    "    x, y = 0, 1\n",
    "    for i in range(n):\n",
    "        print(x)\n",
    "        x, y = y, x + y\n"
   ]
  },
  {
   "attachments": {},
   "cell_type": "markdown",
   "metadata": {},
   "source": [
    "\n",
    "Problems with first approach\n",
    "\n",
    " * x and y are state, and state should be updated all at once or in between lines that state is mis-matched and a common source of issues\n",
    " * ordering matters\n",
    " * it's too low level\n",
    "\n",
    "\n",
    "The second approach is more high-level, doesn't risk getting the order wrong and is fast.\n",
    "\n",
    "## Simultaneous state updates\n"
   ]
  },
  {
   "cell_type": "code",
   "execution_count": null,
   "metadata": {},
   "outputs": [],
   "source": [
    "tmp_x = x + dx * t\n",
    "tmp_y = y + dy * t\n",
    "tmp_dx = influence(m, x, y, dx, dy, partial='x')\n",
    "tmp_dy = influence(m, x, y, dx, dy, partial='y')\n",
    "x = tmp_x\n",
    "y = tmp_y\n",
    "dx = tmp_dx\n",
    "dy = tmp_dy\n"
   ]
  },
  {
   "attachments": {},
   "cell_type": "markdown",
   "metadata": {},
   "source": [
    "\n",
    "### Better\n"
   ]
  },
  {
   "cell_type": "code",
   "execution_count": null,
   "metadata": {},
   "outputs": [],
   "source": [
    "x, y, dx, dy = (x + dx * t,\n",
    "                y + dy * t,\n",
    "                influence(m, x, y, dx, dy, partial='x'),\n",
    "                influence(m, x, y, dx, dy, partial='y'))\n"
   ]
  },
  {
   "attachments": {},
   "cell_type": "markdown",
   "metadata": {},
   "source": [
    "\n",
    "## Efficiency\n",
    " * An optimization fundamental rule\n",
    " * Don’t cause data to move around unnecessarily\n",
    " * It takes only a little care to avoid O(n**2) behavior instead of linear behavior\n",
    "\n",
    "> Basically, just don't move data around unecessarily.\n",
    "\n",
    "## Concatenating strings\n"
   ]
  },
  {
   "cell_type": "code",
   "execution_count": null,
   "metadata": {},
   "outputs": [],
   "source": [
    "names = ['raymond', 'rachel', 'matthew', 'roger',\n",
    "         'betty', 'melissa', 'judith', 'charlie']\n",
    "\n",
    "s = names[0]\n",
    "for name in names[1:]:\n",
    "    s += ', ' + name\n",
    "print s\n"
   ]
  },
  {
   "attachments": {},
   "cell_type": "markdown",
   "metadata": {},
   "source": [
    "\n",
    "### Better\n"
   ]
  },
  {
   "cell_type": "code",
   "execution_count": null,
   "metadata": {},
   "outputs": [],
   "source": [
    "print ', '.join(names)\n"
   ]
  },
  {
   "attachments": {},
   "cell_type": "markdown",
   "metadata": {},
   "source": [
    "\n",
    "## Updating sequences\n"
   ]
  },
  {
   "cell_type": "code",
   "execution_count": null,
   "metadata": {},
   "outputs": [],
   "source": [
    "names = ['raymond', 'rachel', 'matthew', 'roger',\n",
    "         'betty', 'melissa', 'judith', 'charlie']\n",
    "\n",
    "del names[0]\n",
    "# The below are signs you're using the wrong data structure\n",
    "names.pop(0)\n",
    "names.insert(0, 'mark')\n"
   ]
  },
  {
   "attachments": {},
   "cell_type": "markdown",
   "metadata": {},
   "source": [
    "\n",
    "### Better\n"
   ]
  },
  {
   "cell_type": "code",
   "execution_count": null,
   "metadata": {},
   "outputs": [],
   "source": [
    "names = deque(['raymond', 'rachel', 'matthew', 'roger',\n",
    "               'betty', 'melissa', 'judith', 'charlie'])\n",
    "\n",
    "# More efficient with deque\n",
    "del names[0]\n",
    "names.popleft()\n",
    "names.appendleft('mark')\n"
   ]
  },
  {
   "attachments": {},
   "cell_type": "markdown",
   "metadata": {},
   "source": [
    "\n",
    "## Decorators and Context Managers\n",
    " * Helps separate business logic from administrative logic\n",
    " * Clean, beautiful tools for factoring code and improving code reuse\n",
    " * Good naming is essential.\n",
    " * Remember the Spiderman rule: With great power, comes great responsibility!\n",
    "\n",
    "## Using decorators to factor-out administrative logic\n"
   ]
  },
  {
   "cell_type": "code",
   "execution_count": null,
   "metadata": {},
   "outputs": [],
   "source": [
    "# Mixes business / administrative logic and is not reusable\n",
    "def web_lookup(url, saved={}):\n",
    "    if url in saved:\n",
    "        return saved[url]\n",
    "    page = urllib.urlopen(url).read()\n",
    "    saved[url] = page\n",
    "    return page\n"
   ]
  },
  {
   "attachments": {},
   "cell_type": "markdown",
   "metadata": {},
   "source": [
    "\n",
    "### Better\n"
   ]
  },
  {
   "cell_type": "code",
   "execution_count": null,
   "metadata": {},
   "outputs": [],
   "source": [
    "@lru_cache\n",
    "def web_lookup(url):\n",
    "    return urllib.urlopen(url).read()\n"
   ]
  },
  {
   "attachments": {},
   "cell_type": "markdown",
   "metadata": {},
   "source": [
    "\n",
    "Note: since python 3.2 there is a decorator for this in the standard library: `functools.lru_cache`.\n",
    "\n",
    "## Factor-out temporary contexts\n"
   ]
  },
  {
   "cell_type": "code",
   "execution_count": null,
   "metadata": {},
   "outputs": [],
   "source": [
    "# Saving the old, restoring the new\n",
    "old_context = getcontext().copy()\n",
    "getcontext().prec = 50\n",
    "print(Decimal(355) / Decimal(113))\n",
    "setcontext(old_context)\n"
   ]
  },
  {
   "attachments": {},
   "cell_type": "markdown",
   "metadata": {},
   "source": [
    "\n",
    "### Better\n"
   ]
  },
  {
   "cell_type": "code",
   "execution_count": null,
   "metadata": {},
   "outputs": [],
   "source": [
    "with localcontext(Context(prec=50)):\n",
    "    print(Decimal(355) / Decimal(113))\n"
   ]
  },
  {
   "attachments": {},
   "cell_type": "markdown",
   "metadata": {},
   "source": [
    "\n",
    "## How to open and close files\n"
   ]
  },
  {
   "cell_type": "code",
   "execution_count": null,
   "metadata": {},
   "outputs": [],
   "source": [
    "f = open('data.txt')\n",
    "try:\n",
    "    data = f.read()\n",
    "finally:\n",
    "    f.close()\n"
   ]
  },
  {
   "attachments": {},
   "cell_type": "markdown",
   "metadata": {},
   "source": [
    "\n",
    "### Better\n"
   ]
  },
  {
   "cell_type": "code",
   "execution_count": null,
   "metadata": {},
   "outputs": [],
   "source": [
    "with open('data.txt') as f:\n",
    "    data = f.read()\n"
   ]
  },
  {
   "attachments": {},
   "cell_type": "markdown",
   "metadata": {},
   "source": [
    "\n",
    "## How to use locks\n"
   ]
  },
  {
   "cell_type": "code",
   "execution_count": null,
   "metadata": {},
   "outputs": [],
   "source": [
    "# Make a lock\n",
    "lock = threading.Lock()\n",
    "\n",
    "# Old-way to use a lock\n",
    "lock.acquire()\n",
    "try:\n",
    "    print('Critical section 1')\n",
    "    print('Critical section 2')\n",
    "finally:\n",
    "    lock.release()\n"
   ]
  },
  {
   "attachments": {},
   "cell_type": "markdown",
   "metadata": {},
   "source": [
    "\n",
    "### Better\n"
   ]
  },
  {
   "cell_type": "code",
   "execution_count": null,
   "metadata": {},
   "outputs": [],
   "source": [
    "# New-way to use a lock\n",
    "with lock:\n",
    "    print('Critical section 1')\n",
    "    print('Critical section 2')\n"
   ]
  },
  {
   "attachments": {},
   "cell_type": "markdown",
   "metadata": {},
   "source": [
    "\n",
    "## Factor-out temporary contexts\n"
   ]
  },
  {
   "cell_type": "code",
   "execution_count": null,
   "metadata": {},
   "outputs": [],
   "source": [
    "try:\n",
    "    os.remove('somefile.tmp')\n",
    "except OSError:\n",
    "    pass\n"
   ]
  },
  {
   "attachments": {},
   "cell_type": "markdown",
   "metadata": {},
   "source": [
    "\n",
    "### Better\n"
   ]
  },
  {
   "cell_type": "code",
   "execution_count": null,
   "metadata": {},
   "outputs": [],
   "source": [
    "with ignored(OSError):\n",
    "    os.remove('somefile.tmp')\n"
   ]
  },
  {
   "attachments": {},
   "cell_type": "markdown",
   "metadata": {},
   "source": [
    "\n",
    "`ignored` is is new in python 3.4, [documentation](http://docs.python.org/dev/library/contextlib.html#contextlib.ignored).\n",
    "Note: `ignored` is actually called `suppress` in the standard library.\n",
    "\n",
    "To make your own `ignored` context manager in the meantime:\n"
   ]
  },
  {
   "cell_type": "code",
   "execution_count": null,
   "metadata": {},
   "outputs": [],
   "source": [
    "@contextmanager\n",
    "def ignored(*exceptions):\n",
    "    try:\n",
    "        yield\n",
    "    except exceptions:\n",
    "        pass\n"
   ]
  },
  {
   "attachments": {},
   "cell_type": "markdown",
   "metadata": {},
   "source": [
    "\n",
    "> Stick that in your utils directory and you too can ignore exceptions\n",
    "\n",
    "## Factor-out temporary contexts\n"
   ]
  },
  {
   "cell_type": "code",
   "execution_count": null,
   "metadata": {},
   "outputs": [],
   "source": [
    "# Temporarily redirect standard out to a file and then return it to normal\n",
    "with open('help.txt', 'w') as f:\n",
    "    oldstdout = sys.stdout\n",
    "    sys.stdout = f\n",
    "    try:\n",
    "        help(pow)\n",
    "    finally:\n",
    "        sys.stdout = oldstdout\n"
   ]
  },
  {
   "attachments": {},
   "cell_type": "markdown",
   "metadata": {},
   "source": [
    "\n",
    "### Better\n"
   ]
  },
  {
   "cell_type": "code",
   "execution_count": null,
   "metadata": {},
   "outputs": [],
   "source": [
    "with open('help.txt', 'w') as f:\n",
    "    with redirect_stdout(f):\n",
    "        help(pow)\n"
   ]
  },
  {
   "attachments": {},
   "cell_type": "markdown",
   "metadata": {},
   "source": [
    "\n",
    "`redirect_stdout` is proposed for python 3.4, [bug report](http://bugs.python.org/issue15805).\n",
    "\n",
    "To roll your own `redirect_stdout` context manager\n"
   ]
  },
  {
   "cell_type": "code",
   "execution_count": null,
   "metadata": {},
   "outputs": [],
   "source": [
    "@contextmanager\n",
    "def redirect_stdout(fileobj):\n",
    "    oldstdout = sys.stdout\n",
    "    sys.stdout = fileobj\n",
    "    try:\n",
    "        yield fieldobj\n",
    "    finally:\n",
    "        sys.stdout = oldstdout\n"
   ]
  },
  {
   "attachments": {},
   "cell_type": "markdown",
   "metadata": {},
   "source": [
    "## Concise Expressive One-Liners\n",
    "Two conflicting rules:\n",
    "\n",
    " * Don’t put too much on one line\n",
    " * Don’t break atoms of thought into subatomic particles\n",
    "\n",
    "Raymond’s rule:\n",
    "\n",
    " * One logical line of code equals one sentence in English\n",
    "\n",
    "## List Comprehensions and Generator Expressions\n"
   ]
  },
  {
   "cell_type": "code",
   "execution_count": null,
   "metadata": {},
   "outputs": [],
   "source": [
    "result = []\n",
    "for i in range(10):\n",
    "    s = i ** 2\n",
    "    result.append(s)\n",
    "print(sum(result))\n"
   ]
  },
  {
   "attachments": {},
   "cell_type": "markdown",
   "metadata": {},
   "source": [
    "\n",
    "### Better\n"
   ]
  },
  {
   "cell_type": "code",
   "execution_count": null,
   "metadata": {},
   "outputs": [],
   "source": [
    "print(sum(i**2 for i in xrange(10)))\n"
   ]
  },
  {
   "cell_type": "markdown",
   "metadata": {},
   "source": [
    "\n",
    "First way tells you what to do, second way tells you what you want."
   ]
  }
 ],
 "metadata": {
  "language_info": {
   "name": "python"
  },
  "orig_nbformat": 4
 },
 "nbformat": 4,
 "nbformat_minor": 2
}
